{
  "nbformat": 4,
  "nbformat_minor": 0,
  "metadata": {
    "colab": {
      "provenance": [],
      "authorship_tag": "ABX9TyPKK9HQPkNZXCNBV1gr2WVC",
      "include_colab_link": true
    },
    "kernelspec": {
      "name": "python3",
      "display_name": "Python 3"
    },
    "language_info": {
      "name": "python"
    }
  },
  "cells": [
    {
      "cell_type": "markdown",
      "metadata": {
        "id": "view-in-github",
        "colab_type": "text"
      },
      "source": [
        "<a href=\"https://colab.research.google.com/github/amruthkumarp/Regression_model/blob/main/Buliding_linear_regression_scarch.ipynb\" target=\"_parent\"><img src=\"https://colab.research.google.com/assets/colab-badge.svg\" alt=\"Open In Colab\"/></a>"
      ]
    },
    {
      "cell_type": "markdown",
      "source": [
        "Linear Regression\n",
        "\n",
        "**Y=wx+b**\n",
        "\n",
        "y=Dependent variable\n",
        "\n",
        "x=independent variable\n",
        "\n",
        "w=weight\n",
        "\n",
        "b=bias"
      ],
      "metadata": {
        "id": "iVH4RojbQmGg"
      }
    },
    {
      "cell_type": "markdown",
      "source": [
        "Gradient Descent\n",
        "\n",
        "Gradient Descent is an Optimization model used to minimize the loss function in various machine learning algorith.it is used for uodating thr parameter of the learning model\n",
        "\n",
        "w=w-a*dw;\n",
        "\n",
        "b=b-a*db;"
      ],
      "metadata": {
        "id": "efCWd7aGQ4yi"
      }
    },
    {
      "cell_type": "markdown",
      "source": [
        "Learning data\n",
        "\n",
        "Learning rate is a function parameter in an optimizatiion algorithm thet determines the step size at each iteration while moving toward a minimum of loss function\n",
        "\n"
      ],
      "metadata": {
        "id": "5AUW8_w0SoWS"
      }
    },
    {
      "cell_type": "markdown",
      "source": [
        "Learning rate\n",
        "\n"
      ],
      "metadata": {
        "id": "MdntE4UUTgTT"
      }
    },
    {
      "cell_type": "code",
      "source": [
        "import numpy as np\n",
        "import pandas as pd\n"
      ],
      "metadata": {
        "id": "hTTw7MY-Rdib"
      },
      "execution_count": 6,
      "outputs": []
    },
    {
      "cell_type": "code",
      "execution_count": 7,
      "metadata": {
        "id": "8xK5--03Qayy"
      },
      "outputs": [],
      "source": [
        "import numpy as np\n",
        "import pandas as pd\n",
        "\n",
        "class Linear_regression:\n",
        "  #intiating the parameters (learning rate and num_iteration)\n",
        "    def __init__(self,Learning_rate,num_iteration):\n",
        "      self.Learning_rate=Learning_rate\n",
        "      self.num_iteration=num_iteration\n",
        "\n",
        "    def fit(self,x,y):\n",
        "      #number of traing example and number of feature\n",
        "      self.m,self.n=x.shape\n",
        "      #intiating the weights and bias\n",
        "      self.w=np.zeros(self.n)\n",
        "      self.b=0\n",
        "      self.x=x\n",
        "      self.y=y\n",
        "      #implementing gradient descent\n",
        "\n",
        "      for i in range(self.num_iteration):\n",
        "        # Corrected the method call from update_weights to update_weight\n",
        "        self.update_weight()\n",
        "\n",
        "    def update_weight(self):\n",
        "      # Corrected the method call self.predict(self,x) to self.predict(self.x)\n",
        "      y_prediction=self.predict(self.x)\n",
        "      #calculate gradient\n",
        "      # Corrected the variable name y_Prediction to y_prediction\n",
        "      dw=-(2*(self.x.T).dot(self.y-y_prediction))/self.m\n",
        "      # Corrected the variable name dp to db\n",
        "      db=-2*np.sum(self.y-y_prediction)/self.m\n",
        "      #updating weights\n",
        "      self.w=self.w-self.Learning_rate*dw\n",
        "      # Corrected the variable name db to self.b in the update step\n",
        "      self.b=self.b-self.Learning_rate*db\n",
        "\n",
        "    def predict(self,x):\n",
        "      return x.dot(self.w)+self.b"
      ]
    },
    {
      "cell_type": "code",
      "source": [
        "import pandas as pd\n",
        "from sklearn.model_selection import train_test_split\n",
        "import matplotlib.pyplot as plt"
      ],
      "metadata": {
        "id": "diNR0ckgUq23"
      },
      "execution_count": 8,
      "outputs": []
    },
    {
      "cell_type": "code",
      "source": [
        " data_url = \"http://lib.stat.cmu.edu/datasets/boston\"\n",
        " raw_df = pd.read_csv(data_url, sep=\"\\s+\", skiprows=22, header=None)\n",
        " data = np.hstack([raw_df.values[::2, :], raw_df.values[1::2, :2]])\n",
        " target = raw_df.values[1::2, 2]"
      ],
      "metadata": {
        "id": "yzIjVdYFspHy"
      },
      "execution_count": 12,
      "outputs": []
    },
    {
      "cell_type": "code",
      "source": [
        "print(data)"
      ],
      "metadata": {
        "colab": {
          "base_uri": "https://localhost:8080/"
        },
        "id": "Z0O0u0UDthcm",
        "outputId": "d0ce033a-8dde-4258-d60c-e36e10cc86a5"
      },
      "execution_count": 13,
      "outputs": [
        {
          "output_type": "stream",
          "name": "stdout",
          "text": [
            "[[6.3200e-03 1.8000e+01 2.3100e+00 ... 1.5300e+01 3.9690e+02 4.9800e+00]\n",
            " [2.7310e-02 0.0000e+00 7.0700e+00 ... 1.7800e+01 3.9690e+02 9.1400e+00]\n",
            " [2.7290e-02 0.0000e+00 7.0700e+00 ... 1.7800e+01 3.9283e+02 4.0300e+00]\n",
            " ...\n",
            " [6.0760e-02 0.0000e+00 1.1930e+01 ... 2.1000e+01 3.9690e+02 5.6400e+00]\n",
            " [1.0959e-01 0.0000e+00 1.1930e+01 ... 2.1000e+01 3.9345e+02 6.4800e+00]\n",
            " [4.7410e-02 0.0000e+00 1.1930e+01 ... 2.1000e+01 3.9690e+02 7.8800e+00]]\n"
          ]
        }
      ]
    },
    {
      "cell_type": "code",
      "source": [
        "print(data.shape)"
      ],
      "metadata": {
        "colab": {
          "base_uri": "https://localhost:8080/"
        },
        "id": "woCQ4R48tlOn",
        "outputId": "02e5f5ec-a998-4129-d897-e69483218958"
      },
      "execution_count": 14,
      "outputs": [
        {
          "output_type": "stream",
          "name": "stdout",
          "text": [
            "(506, 13)\n"
          ]
        }
      ]
    },
    {
      "cell_type": "code",
      "source": [
        "print(target.shape)"
      ],
      "metadata": {
        "colab": {
          "base_uri": "https://localhost:8080/"
        },
        "id": "C_Gb_0zKtqI7",
        "outputId": "de0fd0fd-8948-41a2-9854-a744e279dd42"
      },
      "execution_count": 15,
      "outputs": [
        {
          "output_type": "stream",
          "name": "stdout",
          "text": [
            "(506,)\n"
          ]
        }
      ]
    },
    {
      "cell_type": "markdown",
      "source": [
        "data preprocessing"
      ],
      "metadata": {
        "id": "Vqa3qm4UptrJ"
      }
    },
    {
      "cell_type": "code",
      "source": [
        "#checking for missing value\n",
        "salary_data.isnull().sum()"
      ],
      "metadata": {
        "colab": {
          "base_uri": "https://localhost:8080/",
          "height": 158
        },
        "id": "r8ye-EJvq-g4",
        "outputId": "432c4cf3-a718-4262-f83c-3bd250ae1b72"
      },
      "execution_count": 18,
      "outputs": [
        {
          "output_type": "error",
          "ename": "NameError",
          "evalue": "name 'salary_data' is not defined",
          "traceback": [
            "\u001b[0;31m---------------------------------------------------------------------------\u001b[0m",
            "\u001b[0;31mNameError\u001b[0m                                 Traceback (most recent call last)",
            "\u001b[0;32m<ipython-input-18-ae1dae2c1f08>\u001b[0m in \u001b[0;36m<cell line: 0>\u001b[0;34m()\u001b[0m\n\u001b[1;32m      1\u001b[0m \u001b[0;31m#checking for missing value\u001b[0m\u001b[0;34m\u001b[0m\u001b[0;34m\u001b[0m\u001b[0m\n\u001b[0;32m----> 2\u001b[0;31m \u001b[0msalary_data\u001b[0m\u001b[0;34m.\u001b[0m\u001b[0misnull\u001b[0m\u001b[0;34m(\u001b[0m\u001b[0;34m)\u001b[0m\u001b[0;34m.\u001b[0m\u001b[0msum\u001b[0m\u001b[0;34m(\u001b[0m\u001b[0;34m)\u001b[0m\u001b[0;34m\u001b[0m\u001b[0;34m\u001b[0m\u001b[0m\n\u001b[0m",
            "\u001b[0;31mNameError\u001b[0m: name 'salary_data' is not defined"
          ]
        }
      ]
    },
    {
      "cell_type": "code",
      "source": [
        "#spliting the feature and target\n",
        "x=data.iloc[:,:-1].values\n",
        "y=data.iloc[:,1].values\n",
        "print(x)\n",
        "print(x.shape)\n",
        "print(y)"
      ],
      "metadata": {
        "colab": {
          "base_uri": "https://localhost:8080/",
          "height": 211
        },
        "collapsed": true,
        "id": "3jk-9WX7rL01",
        "outputId": "1f4629be-2107-40a4-9604-be50067f4386"
      },
      "execution_count": 19,
      "outputs": [
        {
          "output_type": "error",
          "ename": "AttributeError",
          "evalue": "'numpy.ndarray' object has no attribute 'iloc'",
          "traceback": [
            "\u001b[0;31m---------------------------------------------------------------------------\u001b[0m",
            "\u001b[0;31mAttributeError\u001b[0m                            Traceback (most recent call last)",
            "\u001b[0;32m<ipython-input-19-aeaefb83712f>\u001b[0m in \u001b[0;36m<cell line: 0>\u001b[0;34m()\u001b[0m\n\u001b[1;32m      1\u001b[0m \u001b[0;31m#spliting the feature and target\u001b[0m\u001b[0;34m\u001b[0m\u001b[0;34m\u001b[0m\u001b[0m\n\u001b[0;32m----> 2\u001b[0;31m \u001b[0mx\u001b[0m\u001b[0;34m=\u001b[0m\u001b[0mdata\u001b[0m\u001b[0;34m.\u001b[0m\u001b[0miloc\u001b[0m\u001b[0;34m[\u001b[0m\u001b[0;34m:\u001b[0m\u001b[0;34m,\u001b[0m\u001b[0;34m:\u001b[0m\u001b[0;34m-\u001b[0m\u001b[0;36m1\u001b[0m\u001b[0;34m]\u001b[0m\u001b[0;34m.\u001b[0m\u001b[0mvalues\u001b[0m\u001b[0;34m\u001b[0m\u001b[0;34m\u001b[0m\u001b[0m\n\u001b[0m\u001b[1;32m      3\u001b[0m \u001b[0my\u001b[0m\u001b[0;34m=\u001b[0m\u001b[0mdata\u001b[0m\u001b[0;34m.\u001b[0m\u001b[0miloc\u001b[0m\u001b[0;34m[\u001b[0m\u001b[0;34m:\u001b[0m\u001b[0;34m,\u001b[0m\u001b[0;36m1\u001b[0m\u001b[0;34m]\u001b[0m\u001b[0;34m.\u001b[0m\u001b[0mvalues\u001b[0m\u001b[0;34m\u001b[0m\u001b[0;34m\u001b[0m\u001b[0m\n\u001b[1;32m      4\u001b[0m \u001b[0mprint\u001b[0m\u001b[0;34m(\u001b[0m\u001b[0mx\u001b[0m\u001b[0;34m)\u001b[0m\u001b[0;34m\u001b[0m\u001b[0;34m\u001b[0m\u001b[0m\n\u001b[1;32m      5\u001b[0m \u001b[0mprint\u001b[0m\u001b[0;34m(\u001b[0m\u001b[0mx\u001b[0m\u001b[0;34m.\u001b[0m\u001b[0mshape\u001b[0m\u001b[0;34m)\u001b[0m\u001b[0;34m\u001b[0m\u001b[0;34m\u001b[0m\u001b[0m\n",
            "\u001b[0;31mAttributeError\u001b[0m: 'numpy.ndarray' object has no attribute 'iloc'"
          ]
        }
      ]
    },
    {
      "cell_type": "code",
      "source": [
        "x_train,x_test,y_train,y_test=train_test_split(x,y,test_size=0.33,random_state=2)"
      ],
      "metadata": {
        "id": "V3_No87WuBK3"
      },
      "execution_count": null,
      "outputs": []
    },
    {
      "cell_type": "markdown",
      "source": [
        "traning linear regression model"
      ],
      "metadata": {
        "id": "to2BDjJavEN3"
      }
    },
    {
      "cell_type": "code",
      "source": [
        "model=Linear_regression(Learning_rate=0.02,num_iteration=1000)"
      ],
      "metadata": {
        "id": "54n3vGptuw7m"
      },
      "execution_count": null,
      "outputs": []
    },
    {
      "cell_type": "code",
      "source": [
        "model.fit(x_train,y_train)"
      ],
      "metadata": {
        "id": "dG9k8Pv9wcjF"
      },
      "execution_count": null,
      "outputs": []
    },
    {
      "cell_type": "code",
      "source": [
        "#printing the parameter value\n",
        "print('weight=',model.w[0])\n",
        "print('bais=',model.b)"
      ],
      "metadata": {
        "id": "rhcT42dSyIFT"
      },
      "execution_count": null,
      "outputs": []
    },
    {
      "cell_type": "code",
      "source": [
        "y=9514.400999035135*10.3+23697.406507136307\n",
        "print(y)"
      ],
      "metadata": {
        "id": "66g-jF5Qy3kx"
      },
      "execution_count": null,
      "outputs": []
    },
    {
      "cell_type": "markdown",
      "source": [
        "predicted salary value for a test data"
      ],
      "metadata": {
        "id": "kHRob2y2z3Ob"
      }
    },
    {
      "cell_type": "code",
      "source": [
        "test_data_prediction=model.predict(x_test)\n",
        "print(test_data_prediction)\n",
        "print(x_test)\n",
        "print(y_test)"
      ],
      "metadata": {
        "id": "y-lGTKNkz-An"
      },
      "execution_count": null,
      "outputs": []
    },
    {
      "cell_type": "markdown",
      "source": [
        "visulazation\n"
      ],
      "metadata": {
        "id": "dslfdztf1fft"
      }
    },
    {
      "cell_type": "code",
      "source": [
        "plt.scatter(x_test,y_test,color='red')\n",
        "plt.plot(x_test,test_data_prediction,color='blue')\n",
        "plt.xlabel('experience')\n",
        "plt.ylabel('salary')\n",
        "plt.show()"
      ],
      "metadata": {
        "id": "lwPb5LmF1iH4"
      },
      "execution_count": null,
      "outputs": []
    },
    {
      "cell_type": "code",
      "source": [
        "from sklearn.linear_model import LinearRegression\n",
        "model1=LinearRegression()\n",
        "model1.fit(x_train,y_train)\n",
        "\n",
        "print(\"intercept:\",model1.intercept_)\n",
        "print(\"slope:\",model1.coef_)\n",
        "\n",
        "#pridect\n",
        "y_pred=model1.predict(x_test)\n",
        "print(y_pred)"
      ],
      "metadata": {
        "id": "lP6mDNGB-NQw"
      },
      "execution_count": null,
      "outputs": []
    },
    {
      "cell_type": "code",
      "source": [
        "import numpy as np\n",
        "import matplotlib.pyplot as plt\n",
        "\n",
        "# Step 1: Generate synthetic data\n",
        "np.random.seed(0)\n",
        "X = 2 * np.random.rand(100, 1)  # 100 points between 0 and 2\n",
        "y = 5 + 2 * X + np.random.randn(100, 1)  # y = 5 + 2x + noise\n",
        "\n",
        "# Step 2: Add bias term (x0 = 1) to feature matrix\n",
        "X_b = np.c_[np.ones((X.shape[0], 1)), X]  # Shape: (100, 2)\n",
        "\n",
        "# Step 3: Initialize theta\n",
        "theta = np.random.randn(2, 1)  # Random initial theta\n",
        "\n",
        "# Step 4: Set hyperparameters\n",
        "learning_rate = 0.1\n",
        "iterations = 1000\n",
        "m = len(X_b)  # Number of samples\n",
        "\n",
        "# Step 5: Gradient Descent\n",
        "for i in range(iterations):\n",
        "    gradients = (2/m) * X_b.T @ (X_b @ theta - y)\n",
        "    theta = theta - learning_rate * gradients\n",
        "\n",
        "# Step 6: Show result\n",
        "print(\"Final θ values:\")\n",
        "print(f\"θ0 (intercept): {theta[0][0]:.4f}\")\n",
        "print(f\"θ1 (slope)    : {theta[1][0]:.4f}\")\n",
        "\n",
        "# Step 7: Plot the regression line\n",
        "X_new = np.array([[0], [2]])\n",
        "X_new_b = np.c_[np.ones((2, 1)), X_new]\n",
        "y_predict = X_new_b @ theta\n",
        "\n",
        "plt.plot(X_new, y_predict, \"r-\", label=\"Prediction\")\n",
        "plt.plot(X, y, \"b.\", label=\"Training data\")\n",
        "plt.xlabel(\"X\")\n",
        "plt.ylabel(\"y\")\n",
        "plt.title(\"Linear Regression with θ as Parameter\")\n",
        "plt.legend()\n",
        "plt.grid(True)\n",
        "plt.show()"
      ],
      "metadata": {
        "colab": {
          "base_uri": "https://localhost:8080/",
          "height": 524
        },
        "id": "1bBfTYc8ANDF",
        "outputId": "03d4f750-1ea5-4cc6-ea4f-ef9ad9e064c9"
      },
      "execution_count": 11,
      "outputs": [
        {
          "output_type": "stream",
          "name": "stdout",
          "text": [
            "Final θ values:\n",
            "θ0 (intercept): 5.2222\n",
            "θ1 (slope)    : 1.9685\n"
          ]
        },
        {
          "output_type": "display_data",
          "data": {
            "text/plain": [
              "<Figure size 640x480 with 1 Axes>"
            ],
            "image/png": "[encoded data removed]"
          },
          "metadata": {}
        }
      ]
    }
  ]
}